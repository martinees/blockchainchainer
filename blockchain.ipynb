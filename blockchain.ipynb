{
 "cells": [
  {
   "cell_type": "code",
   "execution_count": 1,
   "id": "d3ad7a67-cd24-4b0a-8068-3d5a3ce152c2",
   "metadata": {},
   "outputs": [
    {
     "name": "stdout",
     "output_type": "stream",
     "text": [
      "Requirement already satisfied: flask in ./lib/python3.8/site-packages (2.2.2)\n",
      "Requirement already satisfied: itsdangerous>=2.0 in ./lib/python3.8/site-packages (from flask) (2.1.2)\n",
      "Requirement already satisfied: Werkzeug>=2.2.2 in ./lib/python3.8/site-packages (from flask) (2.2.2)\n",
      "Requirement already satisfied: click>=8.0 in ./lib/python3.8/site-packages (from flask) (8.1.3)\n",
      "Requirement already satisfied: importlib-metadata>=3.6.0; python_version < \"3.10\" in ./lib/python3.8/site-packages (from flask) (6.0.0)\n",
      "Requirement already satisfied: Jinja2>=3.0 in ./lib/python3.8/site-packages (from flask) (3.1.2)\n",
      "Requirement already satisfied: MarkupSafe>=2.1.1 in ./lib/python3.8/site-packages (from Werkzeug>=2.2.2->flask) (2.1.2)\n",
      "Requirement already satisfied: zipp>=0.5 in ./lib/python3.8/site-packages (from importlib-metadata>=3.6.0; python_version < \"3.10\"->flask) (3.11.0)\n"
     ]
    }
   ],
   "source": [
    "!pip install flask"
   ]
  },
  {
   "cell_type": "code",
   "execution_count": 2,
   "id": "18571c3b-afc3-4db9-8e69-d6127c292e52",
   "metadata": {},
   "outputs": [],
   "source": [
    "import datetime\n",
    "import hashlib\n",
    "import json\n",
    "import flask\n",
    "from flask import Flask, jsonify\n",
    "import random"
   ]
  },
  {
   "cell_type": "code",
   "execution_count": 5,
   "id": "4cd7f6df-f3ee-4745-b426-95438a498d4e",
   "metadata": {},
   "outputs": [
    {
     "data": {
      "text/plain": [
       "'quickbrownfox'"
      ]
     },
     "execution_count": 5,
     "metadata": {},
     "output_type": "execute_result"
    }
   ],
   "source": [
    "r = 'quickbrownfox'\n",
    "r"
   ]
  },
  {
   "cell_type": "code",
   "execution_count": 6,
   "id": "859ac457-52a2-4444-91b6-2a9ce2eed1d7",
   "metadata": {},
   "outputs": [
    {
     "data": {
      "text/plain": [
       "'quick'"
      ]
     },
     "execution_count": 6,
     "metadata": {},
     "output_type": "execute_result"
    }
   ],
   "source": [
    "r[:5]"
   ]
  },
  {
   "cell_type": "code",
   "execution_count": 88,
   "id": "ecd12aeb-55ca-404f-9556-c041c3403654",
   "metadata": {},
   "outputs": [
    {
     "data": {
      "text/plain": [
       "b'0'"
      ]
     },
     "execution_count": 88,
     "metadata": {},
     "output_type": "execute_result"
    }
   ],
   "source": [
    "new_proof = 1\n",
    "previous_proof = 1\n",
    "str(new_proof**2 - previous_proof**2).encode()"
   ]
  },
  {
   "cell_type": "code",
   "execution_count": 50,
   "id": "45909e98-a30b-45d9-8fa6-59b2ac316c26",
   "metadata": {},
   "outputs": [],
   "source": [
    "class Blockchain:\n",
    "    def __init__(self):\n",
    "        self.chain = []\n",
    "        self.create_block(proof = 1, previous_hash = '0')\n",
    "        \n",
    "    def create_block(self, proof, previous_hash):\n",
    "        block = {'index': len(self.chain) + 1,\n",
    "                 'timestamp': str(datetime.datetime.now()),\n",
    "                 'proof': proof,\n",
    "                 'previous_hash': previous_hash\n",
    "                }\n",
    "        self.chain.append(block)\n",
    "        return block\n",
    "    \n",
    "    def print_previous_block(self):\n",
    "        return self.chain[-1]\n",
    "    \n",
    "    def proof_of_work(self, previous_proof):\n",
    "        new_proof = 1\n",
    "        check_proof = False\n",
    "        \n",
    "        while check_proof is False:\n",
    "            hash_operation = hashlib.sha256(\n",
    "                str(new_proof**2 - previous_proof**2).encode()).hexdigest()\n",
    "            #print(hash_operation[:10])\n",
    "            if hash_operation[:5] == '5fece':\n",
    "                check_proof = True\n",
    "            else:\n",
    "                new_proof += 1\n",
    "        return new_proof\n",
    "    \n",
    "    def hash(self, block):\n",
    "        encoded_block = json.dumps(block, sort_keys = True).encode()\n",
    "        return hashlib.sha256(encoded_block).hexdigest()\n",
    "    \n",
    "    def chain_valid(self, chain):\n",
    "        previous_block = chain[0]\n",
    "        block_index = 1\n",
    "        block = chain[block_index]\n",
    "        \n",
    "        print(\"Previous hash: \", block['previous_hash'])\n",
    "        print(\"this object's previous block hash: \", self.hash(previous_block))\n",
    "\n",
    "        while block_index < len(chain):\n",
    "            block = chain[block_index]\n",
    "            print(\"block: \", block)\n",
    "            if block['previous_hash'] != self.hash(previous_block):\n",
    "                print(\"Hashes do not match.\")\n",
    "                return False\n",
    "            \n",
    "            previous_proof = previous_block['proof']\n",
    "            proof = block['proof']\n",
    "            hash_operation = hashlib.sha256(\n",
    "                str(proof**2 - previous_proof**2).encode()).hexdigest()\n",
    "        \n",
    "            print(hash_operation)\n",
    "            if hash_operation[:5] != '5fece':\n",
    "                print(\"Proofs don't match. Hash does not correspond to zero.\")\n",
    "                return False\n",
    "        \n",
    "            previous_block = block\n",
    "            block_index += 1\n",
    "        \n",
    "        return True\n",
    "        "
   ]
  },
  {
   "cell_type": "code",
   "execution_count": 51,
   "id": "293c4b10-f32d-4839-a763-a93545188576",
   "metadata": {},
   "outputs": [],
   "source": [
    "bc = Blockchain()"
   ]
  },
  {
   "cell_type": "code",
   "execution_count": 67,
   "id": "34464ee9-65c3-45fe-bb32-59c777242bbc",
   "metadata": {},
   "outputs": [
    {
     "data": {
      "text/plain": [
       "{'index': 2,\n",
       " 'timestamp': '2023-01-26 20:25:22.194263',\n",
       " 'proof': 1,\n",
       " 'previous_hash': '3b4f5c3f5a2a4b6200f07ef932002a557058204a0aa08e8c37a7a15bcc6f716b'}"
      ]
     },
     "execution_count": 67,
     "metadata": {},
     "output_type": "execute_result"
    }
   ],
   "source": [
    "previous_block = bc.print_previous_block()\n",
    "previous_block"
   ]
  },
  {
   "cell_type": "code",
   "execution_count": 53,
   "id": "623cf4bf-9218-4887-88e6-b3aa4dc65677",
   "metadata": {},
   "outputs": [
    {
     "data": {
      "text/plain": [
       "1"
      ]
     },
     "execution_count": 53,
     "metadata": {},
     "output_type": "execute_result"
    }
   ],
   "source": [
    "previous_proof = previous_block['proof']\n",
    "previous_proof"
   ]
  },
  {
   "cell_type": "code",
   "execution_count": 54,
   "id": "93e4ef55-ffb6-4bf0-83eb-196d767067da",
   "metadata": {},
   "outputs": [
    {
     "data": {
      "text/plain": [
       "1"
      ]
     },
     "execution_count": 54,
     "metadata": {},
     "output_type": "execute_result"
    }
   ],
   "source": [
    "proof = bc.proof_of_work(previous_proof)\n",
    "proof"
   ]
  },
  {
   "cell_type": "code",
   "execution_count": 55,
   "id": "1708c058-425f-4c58-bad0-3637e02664f3",
   "metadata": {},
   "outputs": [
    {
     "data": {
      "text/plain": [
       "'3b4f5c3f5a2a4b6200f07ef932002a557058204a0aa08e8c37a7a15bcc6f716b'"
      ]
     },
     "execution_count": 55,
     "metadata": {},
     "output_type": "execute_result"
    }
   ],
   "source": [
    "previous_hash = bc.hash(previous_block)\n",
    "previous_hash"
   ]
  },
  {
   "cell_type": "code",
   "execution_count": 56,
   "id": "5ad15047-f161-4acd-aab2-349c44c25c8b",
   "metadata": {},
   "outputs": [
    {
     "data": {
      "text/plain": [
       "{'index': 2,\n",
       " 'timestamp': '2023-01-26 20:25:22.194263',\n",
       " 'proof': 1,\n",
       " 'previous_hash': '3b4f5c3f5a2a4b6200f07ef932002a557058204a0aa08e8c37a7a15bcc6f716b'}"
      ]
     },
     "execution_count": 56,
     "metadata": {},
     "output_type": "execute_result"
    }
   ],
   "source": [
    "block = bc.create_block(proof, previous_hash)\n",
    "block"
   ]
  },
  {
   "cell_type": "code",
   "execution_count": 57,
   "id": "c6a575fb-2bdb-462d-b106-9fdf8e61ac2f",
   "metadata": {},
   "outputs": [
    {
     "name": "stdout",
     "output_type": "stream",
     "text": [
      "Previous hash:  3b4f5c3f5a2a4b6200f07ef932002a557058204a0aa08e8c37a7a15bcc6f716b\n",
      "this object's previous block hash:  3b4f5c3f5a2a4b6200f07ef932002a557058204a0aa08e8c37a7a15bcc6f716b\n",
      "block:  {'index': 2, 'timestamp': '2023-01-26 20:25:22.194263', 'proof': 1, 'previous_hash': '3b4f5c3f5a2a4b6200f07ef932002a557058204a0aa08e8c37a7a15bcc6f716b'}\n",
      "5feceb66ffc86f38d952786c6d696c79c2dbc239dd4e91b46729d73a27fb57e9\n"
     ]
    },
    {
     "data": {
      "text/plain": [
       "True"
      ]
     },
     "execution_count": 57,
     "metadata": {},
     "output_type": "execute_result"
    }
   ],
   "source": [
    "bc.chain_valid(bc.chain)"
   ]
  },
  {
   "cell_type": "code",
   "execution_count": 58,
   "id": "ad5bba64-9262-4bc7-832e-da36d87f4084",
   "metadata": {},
   "outputs": [
    {
     "data": {
      "text/plain": [
       "1"
      ]
     },
     "execution_count": 58,
     "metadata": {},
     "output_type": "execute_result"
    }
   ],
   "source": [
    "prev_proof = bc.chain[0]['proof']\n",
    "prev_proof"
   ]
  },
  {
   "cell_type": "code",
   "execution_count": 59,
   "id": "4922eb4f-b0f1-438f-88bd-ca4642033ca8",
   "metadata": {},
   "outputs": [
    {
     "data": {
      "text/plain": [
       "1"
      ]
     },
     "execution_count": 59,
     "metadata": {},
     "output_type": "execute_result"
    }
   ],
   "source": [
    "now_proof = bc.chain[1]['proof']\n",
    "now_proof"
   ]
  },
  {
   "cell_type": "code",
   "execution_count": null,
   "id": "956809ec-bc0a-4c38-8599-a35ce611c6a0",
   "metadata": {},
   "outputs": [],
   "source": [
    "app = Flask(__name__)\n",
    "bc2 = Blockchain()"
   ]
  },
  {
   "cell_type": "code",
   "execution_count": null,
   "id": "7ca65d02-7816-496c-b565-ee7c749b7a2a",
   "metadata": {},
   "outputs": [],
   "source": [
    "@app.route('/mine_block', methods=['GET'])\n",
    "def mine_block():\n",
    "    previous_block = bc2.print_previous_block()\n",
    "    previous_proof = previous_block['proof']\n",
    "    proof = bc2.proof_of_work(previous_proof)\n",
    "    previous_hash = bc2.hash(previous_block)\n",
    "    block = bc2.create_block(proof, previous_hash)\n",
    "    \n",
    "    response = {'message': 'A block is MINED',\n",
    "                'index': block['index'],\n",
    "                'timestamp': block['timestamp'],\n",
    "                'proof': block['proof'],\n",
    "                'previous_hash': block['previous_hash']}\n",
    "    \n",
    "    return jsonify(response), 200\n",
    "\n",
    "@app.route('/get_chain', methods=['GET'])\n",
    "def display_chain():\n",
    "    response = {'chain': bc2.chain,'length': len(bc2.chain)}\n",
    "    return jsonify(response), 200\n",
    "\n",
    "# Check validity of blockchain \n",
    "@app.route('/valid', methods=['GET'])\n",
    "def valid():\n",
    "    valid = bc2.chain_valid(bc2.chain)\n",
    "    if valid:\n",
    "        response = {'message': 'The Blockchain is valid.'}\n",
    "    else:\n",
    "        response = {'message': 'The Blockchain is not valid.'}\n",
    "    return jsonify(response), 200\n",
    "\n",
    "# Run the flask server locally\n",
    "app.run(host='127.0.0.1', port=5000)"
   ]
  },
  {
   "cell_type": "code",
   "execution_count": null,
   "id": "83cb14f8-eccb-4fb5-ae97-4a757cea4af4",
   "metadata": {},
   "outputs": [],
   "source": []
  }
 ],
 "metadata": {
  "kernelspec": {
   "display_name": "Python 3 (ipykernel)",
   "language": "python",
   "name": "python3"
  },
  "language_info": {
   "codemirror_mode": {
    "name": "ipython",
    "version": 3
   },
   "file_extension": ".py",
   "mimetype": "text/x-python",
   "name": "python",
   "nbconvert_exporter": "python",
   "pygments_lexer": "ipython3",
   "version": "3.8.10"
  }
 },
 "nbformat": 4,
 "nbformat_minor": 5
}
